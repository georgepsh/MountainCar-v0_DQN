{
 "cells": [
  {
   "cell_type": "code",
   "execution_count": 1,
   "metadata": {},
   "outputs": [],
   "source": [
    "import gym\n",
    "import random\n",
    "import numpy as np\n",
    "import copy\n",
    "import matplotlib.pyplot as plt\n",
    "from collections import namedtuple, deque\n",
    "import torch\n",
    "import torch.nn as nn\n",
    "import torch.optim as optim\n",
    "import torch.nn.functional as F\n",
    "import warnings\n",
    "warnings.filterwarnings(\"ignore\")"
   ]
  },
  {
   "cell_type": "code",
   "execution_count": 11,
   "metadata": {},
   "outputs": [],
   "source": [
    "device = torch.device(\"cuda\" if torch.cuda.is_available() else \"cpu\")\n",
    "\n",
    "env = gym.make('MountainCar-v0')\n",
    "n_actions = env.action_space.n\n",
    "n_states = env.observation_space.shape[0]"
   ]
  },
  {
   "cell_type": "code",
   "execution_count": 12,
   "metadata": {},
   "outputs": [],
   "source": [
    "Transition = namedtuple('Transition', ('state', 'action', 'next_state', 'reward', 'done'))"
   ]
  },
  {
   "cell_type": "markdown",
   "metadata": {},
   "source": [
    "#### Буфер для experience replay"
   ]
  },
  {
   "cell_type": "code",
   "execution_count": 13,
   "metadata": {},
   "outputs": [],
   "source": [
    "class ReplayMemory(object):\n",
    "    def __init__(self, capacity):\n",
    "        self.capacity = capacity\n",
    "        self.memory = []\n",
    "        self.position = 0\n",
    "\n",
    "    def push(self, *args):\n",
    "        \"\"\"Saves a transition.\"\"\"\n",
    "        if len(self.memory) < self.capacity:\n",
    "            self.memory.append(None)\n",
    "        self.memory[self.position] = Transition(*args)\n",
    "        self.position = (self.position + 1) % self.capacity\n",
    "\n",
    "    def sample(self, batch_size):\n",
    "        return random.sample(self.memory, batch_size)\n",
    "\n",
    "    def __len__(self):\n",
    "        return len(self.memory)"
   ]
  },
  {
   "cell_type": "markdown",
   "metadata": {},
   "source": [
    "#### Класс для DQN"
   ]
  },
  {
   "cell_type": "code",
   "execution_count": 14,
   "metadata": {},
   "outputs": [],
   "source": [
    "class DQN:\n",
    "    def __init__(self, layers, lr=0.0005, optim_method=optim.Adam):\n",
    "        self.layers = layers\n",
    "        self.lr = lr\n",
    "        self.loss = F.mse_loss\n",
    "        self.optim_method = optim_method\n",
    "        self.TargetNetwork = None\n",
    "        self.EstimateNetwork = None\n",
    "        self.optimizer = None\n",
    "        self.build_model()\n",
    "\n",
    "    def build_model(self):\n",
    "        def init_weights(layer):\n",
    "            if type(layer) == nn.Linear:\n",
    "                nn.init.xavier_normal_(layer.weight)\n",
    "\n",
    "        self.EstimateNetwork = nn.Sequential(*self.layers)\n",
    "        self.EstimateNetwork.apply(init_weights)\n",
    "\n",
    "        layers_for_target = copy.deepcopy(self.layers)\n",
    "        self.TargetNetwork = nn.Sequential(*layers_for_target)\n",
    "        self.TargetNetwork.load_state_dict(self.EstimateNetwork.state_dict())\n",
    "\n",
    "        self.optimizer = self.optim_method(self.EstimateNetwork.parameters(), lr=self.lr)\n",
    "\n",
    "    def Q_target(self, inp):\n",
    "        return self.TargetNetwork(inp)\n",
    "\n",
    "    def Q_estimate(self, inp):\n",
    "        return self.EstimateNetwork(inp)\n",
    "\n",
    "    def update_target(self):\n",
    "        self.TargetNetwork.load_state_dict(self.EstimateNetwork.state_dict())\n",
    "\n",
    "    def update_parameters(self, estimated, targets):\n",
    "        loss = self.loss(estimated, targets.unsqueeze(1))\n",
    "        self.optimizer.zero_grad()\n",
    "        loss.backward()\n",
    "\n",
    "        for param in self.EstimateNetwork.parameters():\n",
    "            param.grad.data.clamp_(-1, 1)\n",
    "        self.optimizer.step()\n",
    "\n",
    "    def save(self, name):\n",
    "        torch.save(self.EstimateNetwork, name)\n",
    "        print('------ Model saved ------')"
   ]
  },
  {
   "cell_type": "markdown",
   "metadata": {},
   "source": [
    "#### Класс для агента"
   ]
  },
  {
   "cell_type": "code",
   "execution_count": 15,
   "metadata": {},
   "outputs": [],
   "source": [
    "class Agent:\n",
    "    def __init__(self, env, Model, n_actions, goal, min_score, \\\n",
    "                 eps_start=1, eps_end=0.001, eps_decay=0.9, gamma=0.99, \\\n",
    "                 batch_size=64, memory_size=100000, max_episode=2000, upd_rate=1):\n",
    "        self.env = env \n",
    "        self.n_actions = n_actions # number of possible actions\n",
    "        self.goal = goal # the score to reach during learning\n",
    "        self.min_score = min_score # min score to complete the episode\n",
    "        self.eps_start = eps_start \n",
    "        self.eps = eps_start\n",
    "        self.eps_end = eps_end\n",
    "        self.eps_decay = eps_decay\n",
    "        self.gamma = gamma\n",
    "        self.batch_size = batch_size\n",
    "        self.target_update_rate = upd_rate # how often we update our target network\n",
    "        self.Model = Model # DQN instance\n",
    "        self.max_episode = max_episode # how long we train our agent\n",
    "        self.memory = ReplayMemory(memory_size) # Replay buffer\n",
    "\n",
    "    def act(self, state, eps): # epsilon greedy policy\n",
    "        if random.random() < eps:\n",
    "            return torch.tensor([[random.randrange(self.n_actions)]], device=device, dtype=torch.long)\n",
    "        else:\n",
    "            with torch.no_grad():\n",
    "                result = self.Model.Q_estimate(state).max(1)[1]\n",
    "                return result.view(1, 1)\n",
    "\n",
    "    def optimize(self): # experience replay \n",
    "        if len(self.memory) < self.batch_size:\n",
    "            return\n",
    "\n",
    "        transitions = self.memory.sample(self.batch_size)\n",
    "        batch = Transition(*zip(*transitions))\n",
    "\n",
    "        next_state_batch = torch.cat(batch.next_state)\n",
    "        state_batch = torch.cat(batch.state)\n",
    "        action_batch = torch.cat(batch.action)\n",
    "        reward_batch = torch.cat(batch.reward)\n",
    "        done_batch = torch.cat(batch.done)\n",
    "\n",
    "        estimate_value = self.Model.Q_estimate(state_batch).gather(1, action_batch)\n",
    "\n",
    "        Q_value_next = torch.zeros(self.batch_size, device=device)\n",
    "        with torch.no_grad():\n",
    "            Q_value_next[~done_batch] = self.Model.Q_target(next_state_batch).max(1)[0].detach()[~done_batch]\n",
    "        target_value = (Q_value_next * self.gamma) + reward_batch\n",
    "\n",
    "        self.Model.update_parameters(estimate_value, target_value)\n",
    "\n",
    "    def train(self): # learning procedure \n",
    "        all_scores = []\n",
    "        successful_sequences = 0\n",
    "        for ep in range(1, self.max_episode + 1):\n",
    "            state = self.env.reset()\n",
    "            state = torch.tensor(state).to(device).float().unsqueeze(0)\n",
    "            done = False\n",
    "            episode_reward = 0\n",
    "\n",
    "            while not done:\n",
    "                action = self.act(state, self.eps) \n",
    "                action = torch.tensor(action).to(device)\n",
    "\n",
    "                next_state, reward, done, info = self.env.step(action.item())\n",
    "                episode_reward += reward\n",
    "\n",
    "                modified_reward = reward + 300 * (self.gamma * abs(next_state[1]) - abs(state[0][1]))\n",
    "\n",
    "                next_state = torch.tensor(next_state).to(device).float().unsqueeze(0)\n",
    "                modified_reward = torch.tensor(modified_reward).to(device).float().unsqueeze(0)\n",
    "                done = torch.tensor(done).to(device).unsqueeze(0)\n",
    "\n",
    "                self.memory.push(state, action, next_state, modified_reward, done)\n",
    "                state = next_state\n",
    "\n",
    "                self.optimize() # experience replay\n",
    "\n",
    "            \n",
    "            if ep % self.target_update_rate == 0: \n",
    "                self.Model.update_target()\n",
    "\n",
    "            self.eps = max(self.eps_end, self.eps * self.eps_decay)\n",
    "            all_scores.append(episode_reward)\n",
    "\n",
    "            if ep % 100 == 0:\n",
    "                print('episode', ep, ':', np.mean(all_scores[:-100:-1]), 'average score')\n",
    "\n",
    "            if np.mean(all_scores[:-100:-1]) >= self.goal:\n",
    "                successful_sequences += 1\n",
    "                if successful_sequences == 5:\n",
    "                    print('success at episode', ep)\n",
    "                    return all_scores\n",
    "            else:\n",
    "                successful_sequences = 0\n",
    "\n",
    "        return all_scores\n",
    "\n",
    "    def test(self, episodes=50, render=False): #test trained agent\n",
    "        state = self.env.reset()\n",
    "        state = torch.tensor(state).to(device).float().unsqueeze(0)\n",
    "        ep_count = 0\n",
    "        current_episode_reward = 0\n",
    "        scores = []\n",
    "        while ep_count < episodes:\n",
    "            if render:\n",
    "                env.render()\n",
    "            action = self.act(state, 0)\n",
    "            state, reward, done, _ = self.env.step(action.item())\n",
    "            state = torch.tensor(state).to(device).float().unsqueeze(0)\n",
    "            current_episode_reward += reward\n",
    "\n",
    "            if done:\n",
    "                ep_count += 1\n",
    "                scores.append(current_episode_reward)\n",
    "                current_episode_reward = 0\n",
    "                state = self.env.reset()\n",
    "                state = torch.tensor(state).to(device).float().unsqueeze(0)\n",
    "\n",
    "        print('average score:', sum(scores) / len(scores))\n",
    "        print('max reward:', max(scores))\n",
    "        print('-----')\n",
    "        print()\n",
    "\n",
    "    def save(self, name='agent.pkl'): # save policy network\n",
    "        self.Model.save(name)"
   ]
  },
  {
   "cell_type": "markdown",
   "metadata": {},
   "source": [
    "#### Инициализация агента и обучение"
   ]
  },
  {
   "cell_type": "code",
   "execution_count": 16,
   "metadata": {},
   "outputs": [],
   "source": [
    "layers = (\n",
    "        nn.Linear(n_states, 256),\n",
    "        nn.ReLU(),\n",
    "        nn.Linear(256, 256),\n",
    "        nn.ReLU(),\n",
    "        nn.Linear(256, n_actions),\n",
    ")"
   ]
  },
  {
   "cell_type": "code",
   "execution_count": 26,
   "metadata": {},
   "outputs": [
    {
     "name": "stdout",
     "output_type": "stream",
     "text": [
      "episode 100 : -198.1818181818182 average score\n",
      "episode 200 : -198.84848484848484 average score\n",
      "episode 300 : -179.44444444444446 average score\n",
      "episode 400 : -176.03030303030303 average score\n",
      "episode 500 : -157.94949494949495 average score\n",
      "episode 600 : -157.44444444444446 average score\n",
      "episode 700 : -145.2020202020202 average score\n",
      "episode 800 : -127.29292929292929 average score\n",
      "episode 900 : -110.4040404040404 average score\n",
      "success at episode 936\n"
     ]
    }
   ],
   "source": [
    "Model = DQN(layers, lr=0.0001, optim_method=optim.Adam)\n",
    "MountainCarAgent = Agent(env, Model, n_actions, goal=-110, min_score=-200, \\\n",
    "                         eps_start=1, eps_end=0.001, eps_decay=0.9, gamma=0.99, \\\n",
    "                         batch_size=64, memory_size=100000, max_episode=2000)\n",
    "scores = MountainCarAgent.train()"
   ]
  },
  {
   "cell_type": "markdown",
   "metadata": {},
   "source": [
    "##### Протестируем агента и выведем средний скор за 100 эпизодов"
   ]
  },
  {
   "cell_type": "code",
   "execution_count": 27,
   "metadata": {},
   "outputs": [
    {
     "name": "stdout",
     "output_type": "stream",
     "text": [
      "average score: -102.68\n",
      "max reward: -84.0\n",
      "-----\n",
      "\n"
     ]
    }
   ],
   "source": [
    "MountainCarAgent.test()"
   ]
  },
  {
   "cell_type": "markdown",
   "metadata": {},
   "source": [
    "##### История обучения"
   ]
  },
  {
   "cell_type": "code",
   "execution_count": 29,
   "metadata": {},
   "outputs": [
    {
     "data": {
      "image/png": "[encoded data removed]",
      "text/plain": [
       "<Figure size 432x288 with 1 Axes>"
      ]
     },
     "metadata": {
      "needs_background": "light"
     },
     "output_type": "display_data"
    }
   ],
   "source": [
    "episodes = range(len(scores))\n",
    "plt.plot(episodes, scores)\n",
    "plt.xlabel('episodes')\n",
    "plt.ylabel('scores')\n",
    "plt.show()"
   ]
  },
  {
   "cell_type": "code",
   "execution_count": null,
   "metadata": {},
   "outputs": [],
   "source": []
  }
 ],
 "metadata": {
  "kernelspec": {
   "display_name": "Python 3",
   "language": "python",
   "name": "python3"
  },
  "language_info": {
   "codemirror_mode": {
    "name": "ipython",
    "version": 3
   },
   "file_extension": ".py",
   "mimetype": "text/x-python",
   "name": "python",
   "nbconvert_exporter": "python",
   "pygments_lexer": "ipython3",
   "version": "3.7.5"
  }
 },
 "nbformat": 4,
 "nbformat_minor": 4
}
